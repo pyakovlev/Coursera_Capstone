{
 "cells": [
  {
   "cell_type": "markdown",
   "metadata": {},
   "source": [
    "<h1>Predicting the crime rate based on the venues categories prevailing in London boroughs</h1>"
   ]
  },
  {
   "cell_type": "markdown",
   "metadata": {},
   "source": [
    "## 1. Data Collection and Enrichment"
   ]
  },
  {
   "cell_type": "markdown",
   "metadata": {},
   "source": [
    "### Recorded Crime Feed"
   ]
  },
  {
   "cell_type": "markdown",
   "metadata": {},
   "source": [
    "#### Download file from London Data Store Portal https://data.london.gov.uk/dataset/recorded_crime_summary"
   ]
  },
  {
   "cell_type": "code",
   "execution_count": 1,
   "metadata": {},
   "outputs": [
    {
     "name": "stdout",
     "output_type": "stream",
     "text": [
      "Recorded Crime Feed downloaded!\n"
     ]
    }
   ],
   "source": [
    "!wget -q -O 'recorded_crimes_feed.csv' https://data.london.gov.uk/download/recorded_crime_summary/866c05de-c5cd-454b-8fe5-9e7c77ea2313/MPS%20Ward%20Level%20Crime%20%28most%20recent%2024%20months%29.csv\n",
    "print('Recorded Crime Feed downloaded!')"
   ]
  },
  {
   "cell_type": "markdown",
   "metadata": {},
   "source": [
    "#### Load and prepare data"
   ]
  },
  {
   "cell_type": "code",
   "execution_count": 2,
   "metadata": {},
   "outputs": [
    {
     "name": "stdout",
     "output_type": "stream",
     "text": [
      "(632, 4)\n"
     ]
    },
    {
     "data": {
      "text/html": [
       "<div>\n",
       "<style scoped>\n",
       "    .dataframe tbody tr th:only-of-type {\n",
       "        vertical-align: middle;\n",
       "    }\n",
       "\n",
       "    .dataframe tbody tr th {\n",
       "        vertical-align: top;\n",
       "    }\n",
       "\n",
       "    .dataframe thead th {\n",
       "        text-align: right;\n",
       "    }\n",
       "</style>\n",
       "<table border=\"1\" class=\"dataframe\">\n",
       "  <thead>\n",
       "    <tr style=\"text-align: right;\">\n",
       "      <th></th>\n",
       "      <th>LookUp_BoroughName</th>\n",
       "      <th>WardName</th>\n",
       "      <th>WardCode</th>\n",
       "      <th>crime_count</th>\n",
       "    </tr>\n",
       "  </thead>\n",
       "  <tbody>\n",
       "    <tr>\n",
       "      <th>0</th>\n",
       "      <td>Barking and Dagenham</td>\n",
       "      <td>Abbey</td>\n",
       "      <td>E05000026</td>\n",
       "      <td>694</td>\n",
       "    </tr>\n",
       "    <tr>\n",
       "      <th>1</th>\n",
       "      <td>Barking and Dagenham</td>\n",
       "      <td>Alibon</td>\n",
       "      <td>E05000027</td>\n",
       "      <td>307</td>\n",
       "    </tr>\n",
       "    <tr>\n",
       "      <th>2</th>\n",
       "      <td>Barking and Dagenham</td>\n",
       "      <td>Becontree</td>\n",
       "      <td>E05000028</td>\n",
       "      <td>366</td>\n",
       "    </tr>\n",
       "    <tr>\n",
       "      <th>3</th>\n",
       "      <td>Barking and Dagenham</td>\n",
       "      <td>Chadwell Heath</td>\n",
       "      <td>E05000029</td>\n",
       "      <td>357</td>\n",
       "    </tr>\n",
       "    <tr>\n",
       "      <th>4</th>\n",
       "      <td>Barking and Dagenham</td>\n",
       "      <td>Eastbrook</td>\n",
       "      <td>E05000030</td>\n",
       "      <td>292</td>\n",
       "    </tr>\n",
       "  </tbody>\n",
       "</table>\n",
       "</div>"
      ],
      "text/plain": [
       "     LookUp_BoroughName        WardName   WardCode  crime_count\n",
       "0  Barking and Dagenham           Abbey  E05000026          694\n",
       "1  Barking and Dagenham          Alibon  E05000027          307\n",
       "2  Barking and Dagenham       Becontree  E05000028          366\n",
       "3  Barking and Dagenham  Chadwell Heath  E05000029          357\n",
       "4  Barking and Dagenham       Eastbrook  E05000030          292"
      ]
     },
     "execution_count": 2,
     "metadata": {},
     "output_type": "execute_result"
    }
   ],
   "source": [
    "import pandas as pd\n",
    "pd.set_option('display.max_columns', None)\n",
    "pd.set_option('display.max_rows', None)\n",
    "\n",
    "crimes_df = pd.read_csv('recorded_crimes_feed.csv')\n",
    "\n",
    "# Selected parameters\n",
    "selected_category = \"Violence Against the Person\" \n",
    "#selected_category = \"Theft\"\n",
    "selected_year = \"2019\"\n",
    "\n",
    "selected_months = [\"{}{:02d}\".format(selected_year,i) for i in range(1,13)]  # getting all months of selected year\n",
    "\n",
    "crimes_df = crimes_df[crimes_df[\"MajorText\"]==selected_category]\n",
    "crimes_df[\"crime_count\"] = crimes_df[selected_months].sum(axis=1)\n",
    "recorded_crimes_df = crimes_df.groupby([\"LookUp_BoroughName\",\"WardName\",\"WardCode\"])[[\"crime_count\"]].agg(\"sum\")\n",
    "recorded_crimes_df.reset_index(inplace=True)\n",
    "print(recorded_crimes_df.shape)\n",
    "recorded_crimes_df.head()"
   ]
  },
  {
   "cell_type": "markdown",
   "metadata": {},
   "source": [
    "### Population Density Feed"
   ]
  },
  {
   "cell_type": "markdown",
   "metadata": {},
   "source": [
    "#### Download file from London Data Store Portal  https://data.london.gov.uk/dataset/land-area-and-population-density-ward-and-borough"
   ]
  },
  {
   "cell_type": "code",
   "execution_count": 3,
   "metadata": {},
   "outputs": [
    {
     "name": "stdout",
     "output_type": "stream",
     "text": [
      "Population Density Feed downloaded!\n"
     ]
    }
   ],
   "source": [
    "!wget -q -O 'population_feed.csv' https://data.london.gov.uk/download/land-area-and-population-density-ward-and-borough/d961f13b-6726-4fa8-823f-03b379429b72/housing-density-ward.csv\n",
    "print('Population Density Feed downloaded!')"
   ]
  },
  {
   "cell_type": "markdown",
   "metadata": {},
   "source": [
    "#### Load and prepare data"
   ]
  },
  {
   "cell_type": "code",
   "execution_count": 4,
   "metadata": {},
   "outputs": [
    {
     "name": "stdout",
     "output_type": "stream",
     "text": [
      "(624, 9)\n"
     ]
    },
    {
     "data": {
      "text/html": [
       "<div>\n",
       "<style scoped>\n",
       "    .dataframe tbody tr th:only-of-type {\n",
       "        vertical-align: middle;\n",
       "    }\n",
       "\n",
       "    .dataframe tbody tr th {\n",
       "        vertical-align: top;\n",
       "    }\n",
       "\n",
       "    .dataframe thead th {\n",
       "        text-align: right;\n",
       "    }\n",
       "</style>\n",
       "<table border=\"1\" class=\"dataframe\">\n",
       "  <thead>\n",
       "    <tr style=\"text-align: right;\">\n",
       "      <th></th>\n",
       "      <th>Code</th>\n",
       "      <th>Borough</th>\n",
       "      <th>Ward_Name</th>\n",
       "      <th>Year</th>\n",
       "      <th>Population</th>\n",
       "      <th>Hectares</th>\n",
       "      <th>Square_Kilometres</th>\n",
       "      <th>Population_per_hectare</th>\n",
       "      <th>Population_per_square_kilometre</th>\n",
       "    </tr>\n",
       "  </thead>\n",
       "  <tbody>\n",
       "    <tr>\n",
       "      <th>4992</th>\n",
       "      <td>E05000026</td>\n",
       "      <td>Barking and Dagenham</td>\n",
       "      <td>Abbey</td>\n",
       "      <td>2019</td>\n",
       "      <td>15518</td>\n",
       "      <td>127.9</td>\n",
       "      <td>1.279</td>\n",
       "      <td>121.329163</td>\n",
       "      <td>12132.916340</td>\n",
       "    </tr>\n",
       "    <tr>\n",
       "      <th>4993</th>\n",
       "      <td>E05000027</td>\n",
       "      <td>Barking and Dagenham</td>\n",
       "      <td>Alibon</td>\n",
       "      <td>2019</td>\n",
       "      <td>11289</td>\n",
       "      <td>136.1</td>\n",
       "      <td>1.361</td>\n",
       "      <td>82.946363</td>\n",
       "      <td>8294.636297</td>\n",
       "    </tr>\n",
       "    <tr>\n",
       "      <th>4994</th>\n",
       "      <td>E05000028</td>\n",
       "      <td>Barking and Dagenham</td>\n",
       "      <td>Becontree</td>\n",
       "      <td>2019</td>\n",
       "      <td>15118</td>\n",
       "      <td>128.4</td>\n",
       "      <td>1.284</td>\n",
       "      <td>117.741433</td>\n",
       "      <td>11774.143300</td>\n",
       "    </tr>\n",
       "    <tr>\n",
       "      <th>4995</th>\n",
       "      <td>E05000029</td>\n",
       "      <td>Barking and Dagenham</td>\n",
       "      <td>Chadwell Heath</td>\n",
       "      <td>2019</td>\n",
       "      <td>11405</td>\n",
       "      <td>338.0</td>\n",
       "      <td>3.380</td>\n",
       "      <td>33.742604</td>\n",
       "      <td>3374.260355</td>\n",
       "    </tr>\n",
       "    <tr>\n",
       "      <th>4996</th>\n",
       "      <td>E05000030</td>\n",
       "      <td>Barking and Dagenham</td>\n",
       "      <td>Eastbrook</td>\n",
       "      <td>2019</td>\n",
       "      <td>11144</td>\n",
       "      <td>345.4</td>\n",
       "      <td>3.454</td>\n",
       "      <td>32.264042</td>\n",
       "      <td>3226.404169</td>\n",
       "    </tr>\n",
       "  </tbody>\n",
       "</table>\n",
       "</div>"
      ],
      "text/plain": [
       "           Code               Borough       Ward_Name  Year  Population  \\\n",
       "4992  E05000026  Barking and Dagenham           Abbey  2019       15518   \n",
       "4993  E05000027  Barking and Dagenham          Alibon  2019       11289   \n",
       "4994  E05000028  Barking and Dagenham       Becontree  2019       15118   \n",
       "4995  E05000029  Barking and Dagenham  Chadwell Heath  2019       11405   \n",
       "4996  E05000030  Barking and Dagenham       Eastbrook  2019       11144   \n",
       "\n",
       "      Hectares  Square_Kilometres  Population_per_hectare  \\\n",
       "4992     127.9              1.279              121.329163   \n",
       "4993     136.1              1.361               82.946363   \n",
       "4994     128.4              1.284              117.741433   \n",
       "4995     338.0              3.380               33.742604   \n",
       "4996     345.4              3.454               32.264042   \n",
       "\n",
       "      Population_per_square_kilometre  \n",
       "4992                     12132.916340  \n",
       "4993                      8294.636297  \n",
       "4994                     11774.143300  \n",
       "4995                      3374.260355  \n",
       "4996                      3226.404169  "
      ]
     },
     "execution_count": 4,
     "metadata": {},
     "output_type": "execute_result"
    }
   ],
   "source": [
    "population_df = pd.read_csv('population_feed.csv')\n",
    "population_df = population_df[population_df[\"Year\"]==int(selected_year)]  # only interested in selected year data\n",
    "print(population_df.shape)\n",
    "population_df.head()"
   ]
  },
  {
   "cell_type": "markdown",
   "metadata": {},
   "source": [
    "#### Join two data feed to compute crime rate"
   ]
  },
  {
   "cell_type": "markdown",
   "metadata": {},
   "source": [
    "Some records from recorded crimes feed don't have corresponding records with population, we need to filter them out from our clean data"
   ]
  },
  {
   "cell_type": "code",
   "execution_count": 5,
   "metadata": {},
   "outputs": [
    {
     "name": "stdout",
     "output_type": "stream",
     "text": [
      "(632, 13)\n",
      "(557, 13)\n"
     ]
    },
    {
     "data": {
      "text/html": [
       "<div>\n",
       "<style scoped>\n",
       "    .dataframe tbody tr th:only-of-type {\n",
       "        vertical-align: middle;\n",
       "    }\n",
       "\n",
       "    .dataframe tbody tr th {\n",
       "        vertical-align: top;\n",
       "    }\n",
       "\n",
       "    .dataframe thead th {\n",
       "        text-align: right;\n",
       "    }\n",
       "</style>\n",
       "<table border=\"1\" class=\"dataframe\">\n",
       "  <thead>\n",
       "    <tr style=\"text-align: right;\">\n",
       "      <th></th>\n",
       "      <th>LookUp_BoroughName</th>\n",
       "      <th>WardName</th>\n",
       "      <th>WardCode</th>\n",
       "      <th>crime_rate</th>\n",
       "    </tr>\n",
       "  </thead>\n",
       "  <tbody>\n",
       "    <tr>\n",
       "      <th>561</th>\n",
       "      <td>Tower Hamlets</td>\n",
       "      <td>Limehouse</td>\n",
       "      <td>E05009326</td>\n",
       "      <td>5.616272</td>\n",
       "    </tr>\n",
       "    <tr>\n",
       "      <th>494</th>\n",
       "      <td>Richmond upon Thames</td>\n",
       "      <td>East Sheen</td>\n",
       "      <td>E05000517</td>\n",
       "      <td>6.085011</td>\n",
       "    </tr>\n",
       "    <tr>\n",
       "      <th>103</th>\n",
       "      <td>Camden</td>\n",
       "      <td>Frognal and Fitzjohns</td>\n",
       "      <td>E05000133</td>\n",
       "      <td>7.856988</td>\n",
       "    </tr>\n",
       "    <tr>\n",
       "      <th>274</th>\n",
       "      <td>Harrow</td>\n",
       "      <td>Pinner South</td>\n",
       "      <td>E05000298</td>\n",
       "      <td>7.918240</td>\n",
       "    </tr>\n",
       "    <tr>\n",
       "      <th>97</th>\n",
       "      <td>Bromley</td>\n",
       "      <td>West Wickham</td>\n",
       "      <td>E05000127</td>\n",
       "      <td>8.392342</td>\n",
       "    </tr>\n",
       "  </tbody>\n",
       "</table>\n",
       "</div>"
      ],
      "text/plain": [
       "       LookUp_BoroughName               WardName   WardCode  crime_rate\n",
       "561         Tower Hamlets              Limehouse  E05009326    5.616272\n",
       "494  Richmond upon Thames             East Sheen  E05000517    6.085011\n",
       "103                Camden  Frognal and Fitzjohns  E05000133    7.856988\n",
       "274                Harrow           Pinner South  E05000298    7.918240\n",
       "97                Bromley           West Wickham  E05000127    8.392342"
      ]
     },
     "execution_count": 5,
     "metadata": {},
     "output_type": "execute_result"
    }
   ],
   "source": [
    "crime_rate_df = recorded_crimes_df.merge(right=population_df,how='left',left_on=[\"LookUp_BoroughName\",\"WardName\"],right_on=[\"Borough\",\"Ward_Name\"])\n",
    "print(crime_rate_df.shape)\n",
    "crime_rate_df = crime_rate_df[crime_rate_df[\"Population\"].notnull()]  # cleaning not matched records\n",
    "print(crime_rate_df.shape)\n",
    "crime_rate_df['crime_rate'] = 1000*crime_rate_df['crime_count'].div(crime_rate_df['Population'])\n",
    "crime_rate_df= crime_rate_df[['LookUp_BoroughName','WardName','WardCode','crime_rate']]\n",
    "\n",
    "crime_rate_df.sort_values(by='crime_rate').head()"
   ]
  },
  {
   "cell_type": "markdown",
   "metadata": {},
   "source": [
    "### Geographical coordinates of London wards"
   ]
  },
  {
   "cell_type": "markdown",
   "metadata": {},
   "source": [
    "We are going to use 'MapIt' API to get the corrdinates for London wards. It's possible to register on their website for free for a non-profit projects."
   ]
  },
  {
   "cell_type": "code",
   "execution_count": 6,
   "metadata": {},
   "outputs": [
    {
     "name": "stdout",
     "output_type": "stream",
     "text": [
      "Collecting package metadata (current_repodata.json): done\n",
      "Solving environment: done\n",
      "\n",
      "## Package Plan ##\n",
      "\n",
      "  environment location: /home/jupyterlab/conda/envs/python\n",
      "\n",
      "  added / updated specs:\n",
      "    - bs4\n",
      "\n",
      "\n",
      "The following packages will be downloaded:\n",
      "\n",
      "    package                    |            build\n",
      "    ---------------------------|-----------------\n",
      "    beautifulsoup4-4.9.0       |   py36h9f0ad1d_0         160 KB  conda-forge\n",
      "    bs4-4.9.0                  |                0           4 KB  conda-forge\n",
      "    soupsieve-1.9.4            |   py36h9f0ad1d_1          58 KB  conda-forge\n",
      "    ------------------------------------------------------------\n",
      "                                           Total:         222 KB\n",
      "\n",
      "The following NEW packages will be INSTALLED:\n",
      "\n",
      "  beautifulsoup4     conda-forge/linux-64::beautifulsoup4-4.9.0-py36h9f0ad1d_0\n",
      "  bs4                conda-forge/noarch::bs4-4.9.0-0\n",
      "  soupsieve          conda-forge/linux-64::soupsieve-1.9.4-py36h9f0ad1d_1\n",
      "\n",
      "\n",
      "\n",
      "Downloading and Extracting Packages\n",
      "soupsieve-1.9.4      | 58 KB     | ##################################### | 100% \n",
      "beautifulsoup4-4.9.0 | 160 KB    | ##################################### | 100% \n",
      "bs4-4.9.0            | 4 KB      | ##################################### | 100% \n",
      "Preparing transaction: done\n",
      "Verifying transaction: done\n",
      "Executing transaction: done\n"
     ]
    },
    {
     "data": {
      "text/html": [
       "<div>\n",
       "<style scoped>\n",
       "    .dataframe tbody tr th:only-of-type {\n",
       "        vertical-align: middle;\n",
       "    }\n",
       "\n",
       "    .dataframe tbody tr th {\n",
       "        vertical-align: top;\n",
       "    }\n",
       "\n",
       "    .dataframe thead th {\n",
       "        text-align: right;\n",
       "    }\n",
       "</style>\n",
       "<table border=\"1\" class=\"dataframe\">\n",
       "  <thead>\n",
       "    <tr style=\"text-align: right;\">\n",
       "      <th></th>\n",
       "      <th>WardCode</th>\n",
       "      <th>Latitude</th>\n",
       "      <th>Longitude</th>\n",
       "    </tr>\n",
       "  </thead>\n",
       "  <tbody>\n",
       "    <tr>\n",
       "      <th>0</th>\n",
       "      <td>E05000026</td>\n",
       "      <td>51.539711</td>\n",
       "      <td>0.077935</td>\n",
       "    </tr>\n",
       "    <tr>\n",
       "      <th>1</th>\n",
       "      <td>E05000027</td>\n",
       "      <td>51.545589</td>\n",
       "      <td>0.148270</td>\n",
       "    </tr>\n",
       "    <tr>\n",
       "      <th>2</th>\n",
       "      <td>E05000028</td>\n",
       "      <td>51.554534</td>\n",
       "      <td>0.118957</td>\n",
       "    </tr>\n",
       "    <tr>\n",
       "      <th>3</th>\n",
       "      <td>E05000029</td>\n",
       "      <td>51.584751</td>\n",
       "      <td>0.139985</td>\n",
       "    </tr>\n",
       "    <tr>\n",
       "      <th>4</th>\n",
       "      <td>E05000030</td>\n",
       "      <td>51.553648</td>\n",
       "      <td>0.173581</td>\n",
       "    </tr>\n",
       "  </tbody>\n",
       "</table>\n",
       "</div>"
      ],
      "text/plain": [
       "    WardCode   Latitude  Longitude\n",
       "0  E05000026  51.539711   0.077935\n",
       "1  E05000027  51.545589   0.148270\n",
       "2  E05000028  51.554534   0.118957\n",
       "3  E05000029  51.584751   0.139985\n",
       "4  E05000030  51.553648   0.173581"
      ]
     },
     "execution_count": 6,
     "metadata": {},
     "output_type": "execute_result"
    }
   ],
   "source": [
    "!conda install -c conda-forge bs4 --yes\n",
    "\n",
    "\n",
    "from urllib.request import urlopen, Request\n",
    "from bs4 import BeautifulSoup\n",
    "import requests\n",
    "\n",
    "API_KEY = \"pvssREKsieXHEh5eDArqZcNeNeYRX4dgDyidarPM\"\n",
    "\n",
    "\n",
    "url_template = \"https://mapit.mysociety.org/area/{}.html?api_key=\"+API_KEY\n",
    "json_link = \"https://mapit.mysociety.org{}?api_key=\"+API_KEY\n",
    "\n",
    "geolocation_df = pd.read_csv('geolocation.csv')\n",
    "#geolocation_df = pd.DataFrame(columns=['WardCode','Latitude','Longitude'])\n",
    "\n",
    "\n",
    "\n",
    "\n",
    "for ward_code in crime_rate_df['WardCode']:    \n",
    "    if ward_code.strip() not in geolocation_df['WardCode'].tolist():\n",
    "        print(\"Ward {} processing started\".format(ward_code))\n",
    "        req = Request(url_template.format(ward_code))\n",
    "        con = urlopen(req)                \n",
    "        soup = BeautifulSoup(con)    \n",
    "        section_node = soup.find(\"section\", {\"class\": \"details\"})\n",
    "        a_node = section_node.find(\"a\")          \n",
    "        print(json_link.format(a_node[\"href\"]))\n",
    "        json_req = requests.get(json_link.format(a_node[\"href\"]))        \n",
    "        print(json_req.status_code)\n",
    "        json_data = json_req.json()                    \n",
    "        new_row = pd.DataFrame([[ward_code,json_data['centre_lat'],json_data['centre_lon']]],columns=['WardCode','Latitude','Longitude'])\n",
    "        geolocation_df = geolocation_df.append(new_row)\n",
    "        geolocation_df.to_csv('geolocation.csv',index=False)  \n",
    "        print(\"Ward {} processing finished\".format(ward_code))\n",
    "\n",
    "    \n",
    "      \n",
    "geolocation_df.head()"
   ]
  },
  {
   "cell_type": "markdown",
   "metadata": {},
   "source": [
    "Let's see these points allocated to the map of London"
   ]
  },
  {
   "cell_type": "code",
   "execution_count": null,
   "metadata": {},
   "outputs": [
    {
     "name": "stdout",
     "output_type": "stream",
     "text": [
      "Collecting package metadata (current_repodata.json): \\ "
     ]
    }
   ],
   "source": [
    "!conda install -c conda-forge folium=0.5.0 --yes \n",
    "import folium # map rendering library\n",
    "\n",
    "RADIUS = 1000\n",
    "\n",
    "# create map of London (coordinate taken from google)\n",
    "map_london = folium.Map(location=[51.5074, 0.1278], zoom_start=10)\n",
    "\n",
    "# add markers to map\n",
    "for lat, lng, wardcode in zip(geolocation_df['Latitude'], geolocation_df['Longitude'], geolocation_df['WardCode']):\n",
    "    label = '{}'.format(wardcode)\n",
    "    label = folium.Popup(label, parse_html=True)\n",
    "    folium.Circle(\n",
    "        [lat, lng],\n",
    "        radius=RADIUS,\n",
    "        popup=label,\n",
    "        color='blue',\n",
    "        fill=True,\n",
    "        fill_color='#3186cc',\n",
    "        fill_opacity=0.7,\n",
    "        parse_html=False).add_to(map_london)  \n",
    "    \n",
    "map_london\n"
   ]
  },
  {
   "cell_type": "markdown",
   "metadata": {},
   "source": [
    "### Venues information"
   ]
  },
  {
   "cell_type": "markdown",
   "metadata": {},
   "source": [
    "Let's set up Foursquare API"
   ]
  },
  {
   "cell_type": "code",
   "execution_count": 62,
   "metadata": {},
   "outputs": [
    {
     "name": "stdout",
     "output_type": "stream",
     "text": [
      "Your credentails:\n",
      "CLIENT_ID: QKKBSC4GPTTX0IZTYUTB3HJHFESQNDURYLNSRGIN3Y3WWKWL\n",
      "CLIENT_SECRET:FTUQ5WPS2DKS0IS4V0JZTD51EOSFOCC40LZHVNAF1KUQCSC0\n"
     ]
    }
   ],
   "source": [
    "CLIENT_ID = 'QKKBSC4GPTTX0IZTYUTB3HJHFESQNDURYLNSRGIN3Y3WWKWL' # your Foursquare ID\n",
    "CLIENT_SECRET = 'FTUQ5WPS2DKS0IS4V0JZTD51EOSFOCC40LZHVNAF1KUQCSC0' # your Foursquare Secret\n",
    "VERSION = '20180605' # Foursquare API version\n",
    "\n",
    "print('Your credentails:')\n",
    "print('CLIENT_ID: ' + CLIENT_ID)\n",
    "print('CLIENT_SECRET:' + CLIENT_SECRET)"
   ]
  },
  {
   "cell_type": "markdown",
   "metadata": {},
   "source": [
    "..and collect all the information"
   ]
  },
  {
   "cell_type": "code",
   "execution_count": 63,
   "metadata": {},
   "outputs": [
    {
     "data": {
      "text/html": [
       "<div>\n",
       "<style scoped>\n",
       "    .dataframe tbody tr th:only-of-type {\n",
       "        vertical-align: middle;\n",
       "    }\n",
       "\n",
       "    .dataframe tbody tr th {\n",
       "        vertical-align: top;\n",
       "    }\n",
       "\n",
       "    .dataframe thead th {\n",
       "        text-align: right;\n",
       "    }\n",
       "</style>\n",
       "<table border=\"1\" class=\"dataframe\">\n",
       "  <thead>\n",
       "    <tr style=\"text-align: right;\">\n",
       "      <th></th>\n",
       "      <th>WardCode</th>\n",
       "      <th>Ward Latitude</th>\n",
       "      <th>Ward Longitude</th>\n",
       "      <th>Venue</th>\n",
       "      <th>Venue Latitude</th>\n",
       "      <th>Venue Longitude</th>\n",
       "      <th>Venue Category</th>\n",
       "    </tr>\n",
       "  </thead>\n",
       "  <tbody>\n",
       "    <tr>\n",
       "      <th>0</th>\n",
       "      <td>E05000026</td>\n",
       "      <td>51.539711</td>\n",
       "      <td>0.077935</td>\n",
       "      <td>Barking Abbey</td>\n",
       "      <td>51.535352</td>\n",
       "      <td>0.076054</td>\n",
       "      <td>Park</td>\n",
       "    </tr>\n",
       "    <tr>\n",
       "      <th>1</th>\n",
       "      <td>E05000026</td>\n",
       "      <td>51.539711</td>\n",
       "      <td>0.077935</td>\n",
       "      <td>Barking Park</td>\n",
       "      <td>51.545217</td>\n",
       "      <td>0.086134</td>\n",
       "      <td>Park</td>\n",
       "    </tr>\n",
       "    <tr>\n",
       "      <th>2</th>\n",
       "      <td>E05000026</td>\n",
       "      <td>51.539711</td>\n",
       "      <td>0.077935</td>\n",
       "      <td>Cristina's</td>\n",
       "      <td>51.536523</td>\n",
       "      <td>0.076672</td>\n",
       "      <td>Steakhouse</td>\n",
       "    </tr>\n",
       "    <tr>\n",
       "      <th>3</th>\n",
       "      <td>E05000026</td>\n",
       "      <td>51.539711</td>\n",
       "      <td>0.077935</td>\n",
       "      <td>Nando's</td>\n",
       "      <td>51.539780</td>\n",
       "      <td>0.082297</td>\n",
       "      <td>Portuguese Restaurant</td>\n",
       "    </tr>\n",
       "    <tr>\n",
       "      <th>4</th>\n",
       "      <td>E05000026</td>\n",
       "      <td>51.539711</td>\n",
       "      <td>0.077935</td>\n",
       "      <td>The Gym London Barking</td>\n",
       "      <td>51.536193</td>\n",
       "      <td>0.078601</td>\n",
       "      <td>Gym</td>\n",
       "    </tr>\n",
       "  </tbody>\n",
       "</table>\n",
       "</div>"
      ],
      "text/plain": [
       "    WardCode  Ward Latitude  Ward Longitude                   Venue  \\\n",
       "0  E05000026      51.539711        0.077935           Barking Abbey   \n",
       "1  E05000026      51.539711        0.077935            Barking Park   \n",
       "2  E05000026      51.539711        0.077935              Cristina's   \n",
       "3  E05000026      51.539711        0.077935                 Nando's   \n",
       "4  E05000026      51.539711        0.077935  The Gym London Barking   \n",
       "\n",
       "   Venue Latitude  Venue Longitude         Venue Category  \n",
       "0       51.535352         0.076054                   Park  \n",
       "1       51.545217         0.086134                   Park  \n",
       "2       51.536523         0.076672             Steakhouse  \n",
       "3       51.539780         0.082297  Portuguese Restaurant  \n",
       "4       51.536193         0.078601                    Gym  "
      ]
     },
     "execution_count": 63,
     "metadata": {},
     "output_type": "execute_result"
    }
   ],
   "source": [
    "import requests\n",
    "LIMIT = 100\n",
    "\n",
    "RADIUS = 500\n",
    "\n",
    "def getNearbyVenues(names, latitudes, longitudes, radius=500):    \n",
    "    venues_list=[]\n",
    "    for name, lat, lng in zip(names, latitudes, longitudes):\n",
    "        print(name)                    \n",
    "        url = 'https://api.foursquare.com/v2/venues/explore?&client_id={}&client_secret={}&v={}&ll={},{}&radius={}&limit={}'.format(CLIENT_ID, CLIENT_SECRET, VERSION,lat,lng,radius,LIMIT)\n",
    "        req = requests.get(url)        \n",
    "        results = req.json()[\"response\"]['groups'][0]['items']\n",
    "        if len(results)<20:\n",
    "            url = 'https://api.foursquare.com/v2/venues/explore?&client_id={}&client_secret={}&v={}&ll={},{}&radius={}&limit={}'.format(CLIENT_ID, CLIENT_SECRET, VERSION,lat,lng,radius*2,LIMIT)\n",
    "            req = requests.get(url)        \n",
    "            results = req.json()[\"response\"]['groups'][0]['items']     \n",
    "            if len(results)<20:\n",
    "                url = 'https://api.foursquare.com/v2/venues/explore?&client_id={}&client_secret={}&v={}&ll={},{}&radius={}&limit={}'.format(CLIENT_ID, CLIENT_SECRET, VERSION,lat,lng,radius*3,LIMIT)\n",
    "                req = requests.get(url)        \n",
    "                results = req.json()[\"response\"]['groups'][0]['items']    \n",
    "                if len(results)<20:\n",
    "                    url = 'https://api.foursquare.com/v2/venues/explore?&client_id={}&client_secret={}&v={}&ll={},{}&radius={}&limit={}'.format(CLIENT_ID, CLIENT_SECRET, VERSION,lat,lng,radius*4,LIMIT)\n",
    "                    req = requests.get(url)        \n",
    "                    results = req.json()[\"response\"]['groups'][0]['items']  \n",
    "                    if len(results)<20:\n",
    "                        url = 'https://api.foursquare.com/v2/venues/explore?&client_id={}&client_secret={}&v={}&ll={},{}&radius={}&limit={}'.format(CLIENT_ID, CLIENT_SECRET, VERSION,lat,lng,radius*5,LIMIT)\n",
    "                        req = requests.get(url)        \n",
    "                        results = req.json()[\"response\"]['groups'][0]['items']  \n",
    "            if len(results)<20:\n",
    "                print(\"Not enough!\")\n",
    "        venues_list.append([(name, lat, lng, v['venue']['name'], v['venue']['location']['lat'], v['venue']['location']['lng'], v['venue']['categories'][0]['name']) for v in results])\n",
    "    nearby_venues = pd.DataFrame([item for venue_list in venues_list for item in venue_list])\n",
    "    nearby_venues.columns = ['WardCode','Ward Latitude', 'Ward Longitude', 'Venue', 'Venue Latitude', 'Venue Longitude', 'Venue Category']\n",
    "    return(nearby_venues)\n",
    "\n",
    "london_venues = pd.read_csv('london_venues_new2.csv')\n",
    "#london_venues = pd.DataFrame()\n",
    "\n",
    "if len(london_venues)==0:\n",
    "    london_venues = getNearbyVenues(names=geolocation_df['WardCode'],latitudes=geolocation_df['Latitude'],longitudes=geolocation_df['Longitude'],radius=RADIUS)\n",
    "london_venues.to_csv(\"london_venues_new2.csv\",index=False)\n",
    "\n",
    "london_venues.head()\n",
    "\n"
   ]
  },
  {
   "cell_type": "code",
   "execution_count": 64,
   "metadata": {},
   "outputs": [
    {
     "name": "stdout",
     "output_type": "stream",
     "text": [
      "The result dataset counts:\n",
      "\t- number of wards: 557\n",
      "\t- number of venues: 22862\n",
      "\t- number of categories: 444\n"
     ]
    }
   ],
   "source": [
    "nbr_of_venues = len(london_venues)\n",
    "nbr_of_cats = len(london_venues['Venue Category'].unique())\n",
    "nbr_of_wards = len(london_venues['WardCode'].unique())\n",
    "print(\"The result dataset counts:\\n\\t- number of wards: {}\\n\\t- number of venues: {}\\n\\t- number of categories: {}\".format(nbr_of_wards,nbr_of_venues,nbr_of_cats))\n"
   ]
  },
  {
   "cell_type": "markdown",
   "metadata": {},
   "source": [
    "#### Let's scrape categories tree from Foursquare website https://developer.foursquare.com/docs/build-with-foursquare/categories/"
   ]
  },
  {
   "cell_type": "code",
   "execution_count": 65,
   "metadata": {},
   "outputs": [
    {
     "data": {
      "text/html": [
       "<div>\n",
       "<style scoped>\n",
       "    .dataframe tbody tr th:only-of-type {\n",
       "        vertical-align: middle;\n",
       "    }\n",
       "\n",
       "    .dataframe tbody tr th {\n",
       "        vertical-align: top;\n",
       "    }\n",
       "\n",
       "    .dataframe thead th {\n",
       "        text-align: right;\n",
       "    }\n",
       "</style>\n",
       "<table border=\"1\" class=\"dataframe\">\n",
       "  <thead>\n",
       "    <tr style=\"text-align: right;\">\n",
       "      <th></th>\n",
       "      <th>ParentCat</th>\n",
       "      <th>ChildCat</th>\n",
       "      <th>Level</th>\n",
       "    </tr>\n",
       "  </thead>\n",
       "  <tbody>\n",
       "    <tr>\n",
       "      <th>0</th>\n",
       "      <td>Arts &amp; Entertainment</td>\n",
       "      <td>Arts &amp; Entertainment</td>\n",
       "      <td>0</td>\n",
       "    </tr>\n",
       "    <tr>\n",
       "      <th>1</th>\n",
       "      <td>Arts &amp; Entertainment</td>\n",
       "      <td>Amphitheater</td>\n",
       "      <td>1</td>\n",
       "    </tr>\n",
       "    <tr>\n",
       "      <th>2</th>\n",
       "      <td>Arts &amp; Entertainment</td>\n",
       "      <td>Aquarium</td>\n",
       "      <td>1</td>\n",
       "    </tr>\n",
       "    <tr>\n",
       "      <th>3</th>\n",
       "      <td>Arts &amp; Entertainment</td>\n",
       "      <td>Arcade</td>\n",
       "      <td>1</td>\n",
       "    </tr>\n",
       "    <tr>\n",
       "      <th>4</th>\n",
       "      <td>Arts &amp; Entertainment</td>\n",
       "      <td>Art Gallery</td>\n",
       "      <td>1</td>\n",
       "    </tr>\n",
       "  </tbody>\n",
       "</table>\n",
       "</div>"
      ],
      "text/plain": [
       "              ParentCat              ChildCat  Level\n",
       "0  Arts & Entertainment  Arts & Entertainment      0\n",
       "1  Arts & Entertainment          Amphitheater      1\n",
       "2  Arts & Entertainment              Aquarium      1\n",
       "3  Arts & Entertainment                Arcade      1\n",
       "4  Arts & Entertainment           Art Gallery      1"
      ]
     },
     "execution_count": 65,
     "metadata": {},
     "output_type": "execute_result"
    }
   ],
   "source": [
    "from urllib.request import urlopen, Request\n",
    "from bs4 import BeautifulSoup\n",
    "import requests\n",
    "\n",
    "\n",
    "\n",
    "categories_url = \"https://developer.foursquare.com/docs/build-with-foursquare/categories/\"\n",
    "\n",
    "\n",
    "req = Request(categories_url)\n",
    "con = urlopen(req)                \n",
    "soup = BeautifulSoup(con)    \n",
    "\n",
    "def process_level(ul_node, level_nbr=0, parent_category=None):\n",
    "    results = []   \n",
    "    li_nodes = ul_node.findAll(\"li\", recursive=False)\n",
    "    for li_node in li_nodes:        \n",
    "        child_category = li_node.find(\"h3\").text\n",
    "        results.append([child_category if parent_category is None else parent_category, child_category,level_nbr])\n",
    "        child_ul_node = li_node.find(\"ul\")\n",
    "        if child_ul_node is not None:\n",
    "            results+= process_level(child_ul_node, level_nbr+1, child_category)\n",
    "    return results\n",
    "\n",
    "ul_node = soup.find(\"ul\",attrs={\"class\":\"VenueCategories__Wrapper-sc-1ysxg0y-0\"})\n",
    "categories_lst = process_level(ul_node)\n",
    "       \n",
    "categories_df = pd.DataFrame(categories_lst,columns=[\"ParentCat\",\"ChildCat\",\"Level\"])\n",
    "categories_df.head()\n"
   ]
  },
  {
   "cell_type": "markdown",
   "metadata": {},
   "source": [
    "#### Replacing granular venue categories with parent level categories"
   ]
  },
  {
   "cell_type": "code",
   "execution_count": 66,
   "metadata": {},
   "outputs": [
    {
     "data": {
      "text/plain": [
       "array(['Outdoors & Recreation', 'Food', 'Shop & Service',\n",
       "       'Travel & Transport', 'Nightlife Spot', 'Arts & Entertainment',\n",
       "       'Professional & Other Places', 'College & University', 'Residence'],\n",
       "      dtype=object)"
      ]
     },
     "execution_count": 66,
     "metadata": {},
     "output_type": "execute_result"
    }
   ],
   "source": [
    "london_venues.head()\n",
    "london_venues_parent_cat1 = london_venues.merge(right=categories_df,how='left',left_on=\"Venue Category\",right_on=\"ChildCat\")\n",
    "london_venues_parent_cat2 = london_venues_parent_cat1.merge(right=categories_df,how='left',left_on=\"ParentCat\",right_on=\"ChildCat\")\n",
    "london_venues_parent_cat3 = london_venues_parent_cat2.merge(right=categories_df,how='left',left_on=\"ParentCat_y\",right_on=\"ChildCat\")\n",
    "london_venues_parent_cat4 = london_venues_parent_cat3.merge(right=categories_df,how='left',left_on=\"ParentCat\",right_on=\"ChildCat\",suffixes=('_1','_2'))\n",
    "london_venues_parent_cat5 = london_venues_parent_cat4.merge(right=categories_df,how='left',left_on=\"ParentCat_2\",right_on=\"ChildCat\",suffixes=('_3','_4'))\n",
    "london_venues_parent_cat5['ParentCat'].unique()"
   ]
  },
  {
   "cell_type": "code",
   "execution_count": 67,
   "metadata": {},
   "outputs": [
    {
     "name": "stdout",
     "output_type": "stream",
     "text": [
      "The result dataset counts:\n",
      "\t- number of wards: 557\n",
      "\t- number of venues: 22862\n",
      "\t- number of categories: 9\n"
     ]
    },
    {
     "data": {
      "text/plain": [
       "array(['Outdoors & Recreation', 'Food', 'Shop & Service',\n",
       "       'Travel & Transport', 'Nightlife Spot', 'Arts & Entertainment',\n",
       "       'Professional & Other Places', 'College & University', 'Residence'],\n",
       "      dtype=object)"
      ]
     },
     "execution_count": 67,
     "metadata": {},
     "output_type": "execute_result"
    }
   ],
   "source": [
    "london_venues_parent_cat = london_venues_parent_cat5\n",
    "\n",
    "nbr_of_venues = len(london_venues_parent_cat)\n",
    "nbr_of_cats = len(london_venues_parent_cat['ParentCat'].unique())\n",
    "nbr_of_wards = len(london_venues_parent_cat['WardCode'].unique())\n",
    "print(\"The result dataset counts:\\n\\t- number of wards: {}\\n\\t- number of venues: {}\\n\\t- number of categories: {}\".format(nbr_of_wards,nbr_of_venues,nbr_of_cats))\n",
    "london_venues_parent_cat['ParentCat'].unique()\n",
    "\n"
   ]
  },
  {
   "cell_type": "markdown",
   "metadata": {},
   "source": [
    "## 2. Analyze data"
   ]
  },
  {
   "cell_type": "markdown",
   "metadata": {},
   "source": [
    "### Clustering by crime rate "
   ]
  },
  {
   "cell_type": "code",
   "execution_count": 68,
   "metadata": {},
   "outputs": [
    {
     "name": "stdout",
     "output_type": "stream",
     "text": [
      "0\n",
      "min:24.75189725627554\n",
      "max:68.20143884892087\n",
      "size:202\n",
      "1\n",
      "min:154.1342341019239\n",
      "max:184.3774781919112\n",
      "size:2\n",
      "2\n",
      "min:5.616272009714633\n",
      "max:24.647167109838414\n",
      "size:353\n"
     ]
    },
    {
     "data": {
      "text/html": [
       "<div>\n",
       "<style scoped>\n",
       "    .dataframe tbody tr th:only-of-type {\n",
       "        vertical-align: middle;\n",
       "    }\n",
       "\n",
       "    .dataframe tbody tr th {\n",
       "        vertical-align: top;\n",
       "    }\n",
       "\n",
       "    .dataframe thead th {\n",
       "        text-align: right;\n",
       "    }\n",
       "</style>\n",
       "<table border=\"1\" class=\"dataframe\">\n",
       "  <thead>\n",
       "    <tr style=\"text-align: right;\">\n",
       "      <th></th>\n",
       "      <th>crime_rate_category</th>\n",
       "      <th>LookUp_BoroughName</th>\n",
       "      <th>WardName</th>\n",
       "      <th>WardCode</th>\n",
       "      <th>crime_rate</th>\n",
       "    </tr>\n",
       "  </thead>\n",
       "  <tbody>\n",
       "    <tr>\n",
       "      <th>626</th>\n",
       "      <td>1</td>\n",
       "      <td>Westminster</td>\n",
       "      <td>St James's</td>\n",
       "      <td>E05000644</td>\n",
       "      <td>184.377478</td>\n",
       "    </tr>\n",
       "    <tr>\n",
       "      <th>630</th>\n",
       "      <td>1</td>\n",
       "      <td>Westminster</td>\n",
       "      <td>West End</td>\n",
       "      <td>E05000649</td>\n",
       "      <td>154.134234</td>\n",
       "    </tr>\n",
       "  </tbody>\n",
       "</table>\n",
       "</div>"
      ],
      "text/plain": [
       "     crime_rate_category LookUp_BoroughName    WardName   WardCode  crime_rate\n",
       "626                    1        Westminster  St James's  E05000644  184.377478\n",
       "630                    1        Westminster    West End  E05000649  154.134234"
      ]
     },
     "execution_count": 68,
     "metadata": {},
     "output_type": "execute_result"
    }
   ],
   "source": [
    "#london_ward_grouped.drop(axis=1,columns=[\"Cluster Labels\"],inplace=True)\n",
    "from sklearn.cluster import KMeans\n",
    "\n",
    "kclusters = 3\n",
    "\n",
    "final_df_crime_rate = crime_rate_df.filter(['crime_rate'],axis=1)\n",
    "\n",
    "# run k-means clustering\n",
    "kmeans = KMeans(n_clusters=kclusters, random_state=0).fit(final_df_crime_rate)\n",
    "\n",
    "# add clustering labels\n",
    "#crime_rate_df.drop(columns=['crime_rate_category'],axis=1,inplace=True)\n",
    "crime_rate_df.insert(0, 'crime_rate_category', kmeans.labels_)\n",
    "\n",
    "for i in  range(0,kclusters):    \n",
    "    print(i)\n",
    "    print(\"min:\"+str(crime_rate_df[crime_rate_df['crime_rate_category']==i]['crime_rate'].min()))\n",
    "    print(\"max:\"+str(crime_rate_df[crime_rate_df['crime_rate_category']==i]['crime_rate'].max()))\n",
    "    print(\"size:\"+str(len(crime_rate_df[crime_rate_df['crime_rate_category']==i]['crime_rate'])))\n",
    "\n",
    "crime_rate_df[crime_rate_df['crime_rate_category']==1]"
   ]
  },
  {
   "cell_type": "markdown",
   "metadata": {},
   "source": [
    "Only 2 wards are in super high rate - let's exclude them and do clustering again"
   ]
  },
  {
   "cell_type": "code",
   "execution_count": 69,
   "metadata": {},
   "outputs": [
    {
     "name": "stdout",
     "output_type": "stream",
     "text": [
      "0\n",
      "min:5.616272009714633\n",
      "max:21.264063144253992\n",
      "size:272\n",
      "1\n",
      "min:21.36829964183816\n",
      "max:35.35722994391612\n",
      "size:242\n",
      "2\n",
      "min:35.77635284952358\n",
      "max:68.20143884892087\n",
      "size:41\n"
     ]
    }
   ],
   "source": [
    "crime_rate_df = crime_rate_df[crime_rate_df['crime_rate_category']!=1]\n",
    "kclusters = 3\n",
    "\n",
    "final_df_crime_rate = crime_rate_df.filter(['crime_rate'],axis=1)\n",
    "\n",
    "# run k-means clustering\n",
    "kmeans = KMeans(n_clusters=kclusters, random_state=0).fit(final_df_crime_rate)\n",
    "\n",
    "# add clustering labels\n",
    "crime_rate_df.drop(columns=['crime_rate_category'],axis=1,inplace=True)\n",
    "crime_rate_df.insert(0, 'crime_rate_category', kmeans.labels_)\n",
    "\n",
    "for i in  range(0,kclusters):    \n",
    "    print(i)\n",
    "    print(\"min:\"+str(crime_rate_df[crime_rate_df['crime_rate_category']==i]['crime_rate'].min()))\n",
    "    print(\"max:\"+str(crime_rate_df[crime_rate_df['crime_rate_category']==i]['crime_rate'].max()))\n",
    "    print(\"size:\"+str(len(crime_rate_df[crime_rate_df['crime_rate_category']==i]['crime_rate'])))\n",
    "\n"
   ]
  },
  {
   "cell_type": "code",
   "execution_count": 70,
   "metadata": {},
   "outputs": [
    {
     "data": {
      "text/html": [
       "<div>\n",
       "<style scoped>\n",
       "    .dataframe tbody tr th:only-of-type {\n",
       "        vertical-align: middle;\n",
       "    }\n",
       "\n",
       "    .dataframe tbody tr th {\n",
       "        vertical-align: top;\n",
       "    }\n",
       "\n",
       "    .dataframe thead th {\n",
       "        text-align: right;\n",
       "    }\n",
       "</style>\n",
       "<table border=\"1\" class=\"dataframe\">\n",
       "  <thead>\n",
       "    <tr style=\"text-align: right;\">\n",
       "      <th></th>\n",
       "      <th>LookUp_BoroughName</th>\n",
       "      <th>WardName</th>\n",
       "      <th>WardCode</th>\n",
       "      <th>crime_rate</th>\n",
       "      <th>crime_rate_category</th>\n",
       "    </tr>\n",
       "  </thead>\n",
       "  <tbody>\n",
       "    <tr>\n",
       "      <th>0</th>\n",
       "      <td>Barking and Dagenham</td>\n",
       "      <td>Abbey</td>\n",
       "      <td>E05000026</td>\n",
       "      <td>44.722258</td>\n",
       "      <td>High</td>\n",
       "    </tr>\n",
       "    <tr>\n",
       "      <th>1</th>\n",
       "      <td>Barking and Dagenham</td>\n",
       "      <td>Alibon</td>\n",
       "      <td>E05000027</td>\n",
       "      <td>27.194614</td>\n",
       "      <td>Medium</td>\n",
       "    </tr>\n",
       "    <tr>\n",
       "      <th>2</th>\n",
       "      <td>Barking and Dagenham</td>\n",
       "      <td>Becontree</td>\n",
       "      <td>E05000028</td>\n",
       "      <td>24.209552</td>\n",
       "      <td>Medium</td>\n",
       "    </tr>\n",
       "    <tr>\n",
       "      <th>3</th>\n",
       "      <td>Barking and Dagenham</td>\n",
       "      <td>Chadwell Heath</td>\n",
       "      <td>E05000029</td>\n",
       "      <td>31.302060</td>\n",
       "      <td>Medium</td>\n",
       "    </tr>\n",
       "    <tr>\n",
       "      <th>4</th>\n",
       "      <td>Barking and Dagenham</td>\n",
       "      <td>Eastbrook</td>\n",
       "      <td>E05000030</td>\n",
       "      <td>26.202441</td>\n",
       "      <td>Medium</td>\n",
       "    </tr>\n",
       "  </tbody>\n",
       "</table>\n",
       "</div>"
      ],
      "text/plain": [
       "     LookUp_BoroughName        WardName   WardCode  crime_rate  \\\n",
       "0  Barking and Dagenham           Abbey  E05000026   44.722258   \n",
       "1  Barking and Dagenham          Alibon  E05000027   27.194614   \n",
       "2  Barking and Dagenham       Becontree  E05000028   24.209552   \n",
       "3  Barking and Dagenham  Chadwell Heath  E05000029   31.302060   \n",
       "4  Barking and Dagenham       Eastbrook  E05000030   26.202441   \n",
       "\n",
       "  crime_rate_category  \n",
       "0                High  \n",
       "1              Medium  \n",
       "2              Medium  \n",
       "3              Medium  \n",
       "4              Medium  "
      ]
     },
     "execution_count": 70,
     "metadata": {},
     "output_type": "execute_result"
    }
   ],
   "source": [
    "import numpy as np\n",
    "crime_rate_df['crime_rate_cat_name'] = np.empty(shape=(len(crime_rate_df),1),dtype=str)\n",
    "crime_rate_df.loc[crime_rate_df['crime_rate_category']==0,'crime_rate_cat_name'] = 'Low'\n",
    "crime_rate_df.loc[crime_rate_df['crime_rate_category']==1,'crime_rate_cat_name'] = 'Medium'\n",
    "crime_rate_df.loc[crime_rate_df['crime_rate_category']==2,'crime_rate_cat_name'] = 'High'\n",
    "crime_rate_df.drop(columns=\"crime_rate_category\",inplace=True)\n",
    "crime_rate_df.rename(columns={\"crime_rate_cat_name\":\"crime_rate_category\"},inplace=True)\n",
    "crime_rate_df.head()"
   ]
  },
  {
   "cell_type": "markdown",
   "metadata": {},
   "source": [
    "### Clustering by categories"
   ]
  },
  {
   "cell_type": "code",
   "execution_count": 71,
   "metadata": {},
   "outputs": [
    {
     "data": {
      "text/html": [
       "<div>\n",
       "<style scoped>\n",
       "    .dataframe tbody tr th:only-of-type {\n",
       "        vertical-align: middle;\n",
       "    }\n",
       "\n",
       "    .dataframe tbody tr th {\n",
       "        vertical-align: top;\n",
       "    }\n",
       "\n",
       "    .dataframe thead th {\n",
       "        text-align: right;\n",
       "    }\n",
       "</style>\n",
       "<table border=\"1\" class=\"dataframe\">\n",
       "  <thead>\n",
       "    <tr style=\"text-align: right;\">\n",
       "      <th></th>\n",
       "      <th>WardCode</th>\n",
       "      <th>Arts &amp; Entertainment</th>\n",
       "      <th>College &amp; University</th>\n",
       "      <th>Food</th>\n",
       "      <th>Nightlife Spot</th>\n",
       "      <th>Outdoors &amp; Recreation</th>\n",
       "      <th>Professional &amp; Other Places</th>\n",
       "      <th>Residence</th>\n",
       "      <th>Shop &amp; Service</th>\n",
       "      <th>Travel &amp; Transport</th>\n",
       "    </tr>\n",
       "  </thead>\n",
       "  <tbody>\n",
       "    <tr>\n",
       "      <th>0</th>\n",
       "      <td>E05000026</td>\n",
       "      <td>0.055556</td>\n",
       "      <td>0.0</td>\n",
       "      <td>0.250000</td>\n",
       "      <td>0.027778</td>\n",
       "      <td>0.138889</td>\n",
       "      <td>0.000000</td>\n",
       "      <td>0.0</td>\n",
       "      <td>0.361111</td>\n",
       "      <td>0.166667</td>\n",
       "    </tr>\n",
       "    <tr>\n",
       "      <th>1</th>\n",
       "      <td>E05000027</td>\n",
       "      <td>0.068182</td>\n",
       "      <td>0.0</td>\n",
       "      <td>0.181818</td>\n",
       "      <td>0.068182</td>\n",
       "      <td>0.250000</td>\n",
       "      <td>0.000000</td>\n",
       "      <td>0.0</td>\n",
       "      <td>0.363636</td>\n",
       "      <td>0.068182</td>\n",
       "    </tr>\n",
       "    <tr>\n",
       "      <th>2</th>\n",
       "      <td>E05000028</td>\n",
       "      <td>0.043478</td>\n",
       "      <td>0.0</td>\n",
       "      <td>0.217391</td>\n",
       "      <td>0.043478</td>\n",
       "      <td>0.304348</td>\n",
       "      <td>0.000000</td>\n",
       "      <td>0.0</td>\n",
       "      <td>0.304348</td>\n",
       "      <td>0.086957</td>\n",
       "    </tr>\n",
       "    <tr>\n",
       "      <th>3</th>\n",
       "      <td>E05000029</td>\n",
       "      <td>0.057143</td>\n",
       "      <td>0.0</td>\n",
       "      <td>0.285714</td>\n",
       "      <td>0.085714</td>\n",
       "      <td>0.142857</td>\n",
       "      <td>0.028571</td>\n",
       "      <td>0.0</td>\n",
       "      <td>0.314286</td>\n",
       "      <td>0.085714</td>\n",
       "    </tr>\n",
       "    <tr>\n",
       "      <th>4</th>\n",
       "      <td>E05000030</td>\n",
       "      <td>0.000000</td>\n",
       "      <td>0.0</td>\n",
       "      <td>0.236842</td>\n",
       "      <td>0.052632</td>\n",
       "      <td>0.315789</td>\n",
       "      <td>0.000000</td>\n",
       "      <td>0.0</td>\n",
       "      <td>0.368421</td>\n",
       "      <td>0.026316</td>\n",
       "    </tr>\n",
       "  </tbody>\n",
       "</table>\n",
       "</div>"
      ],
      "text/plain": [
       "    WardCode  Arts & Entertainment  College & University      Food  \\\n",
       "0  E05000026              0.055556                   0.0  0.250000   \n",
       "1  E05000027              0.068182                   0.0  0.181818   \n",
       "2  E05000028              0.043478                   0.0  0.217391   \n",
       "3  E05000029              0.057143                   0.0  0.285714   \n",
       "4  E05000030              0.000000                   0.0  0.236842   \n",
       "\n",
       "   Nightlife Spot  Outdoors & Recreation  Professional & Other Places  \\\n",
       "0        0.027778               0.138889                     0.000000   \n",
       "1        0.068182               0.250000                     0.000000   \n",
       "2        0.043478               0.304348                     0.000000   \n",
       "3        0.085714               0.142857                     0.028571   \n",
       "4        0.052632               0.315789                     0.000000   \n",
       "\n",
       "   Residence  Shop & Service  Travel & Transport  \n",
       "0        0.0        0.361111            0.166667  \n",
       "1        0.0        0.363636            0.068182  \n",
       "2        0.0        0.304348            0.086957  \n",
       "3        0.0        0.314286            0.085714  \n",
       "4        0.0        0.368421            0.026316  "
      ]
     },
     "execution_count": 71,
     "metadata": {},
     "output_type": "execute_result"
    }
   ],
   "source": [
    "london_venues_parent_cat = london_venues_parent_cat[london_venues_parent_cat['WardCode']!='E05000649']\n",
    "london_venues_parent_cat = london_venues_parent_cat[london_venues_parent_cat['WardCode']!='E05000644']\n",
    "\n",
    "london_venues_onehot = pd.get_dummies(london_venues_parent_cat[['ParentCat']],prefix=\"\",prefix_sep=\"\")\n",
    "london_venues_onehot['WardCode'] = london_venues_parent_cat['WardCode']\n",
    "london_ward_grouped = london_venues_onehot.groupby('WardCode').mean().reset_index()\n",
    "london_ward_grouped.head()\n"
   ]
  },
  {
   "cell_type": "code",
   "execution_count": 20,
   "metadata": {},
   "outputs": [
    {
     "data": {
      "text/html": [
       "<div>\n",
       "<style scoped>\n",
       "    .dataframe tbody tr th:only-of-type {\n",
       "        vertical-align: middle;\n",
       "    }\n",
       "\n",
       "    .dataframe tbody tr th {\n",
       "        vertical-align: top;\n",
       "    }\n",
       "\n",
       "    .dataframe thead th {\n",
       "        text-align: right;\n",
       "    }\n",
       "</style>\n",
       "<table border=\"1\" class=\"dataframe\">\n",
       "  <thead>\n",
       "    <tr style=\"text-align: right;\">\n",
       "      <th></th>\n",
       "      <th>Cluster Labels</th>\n",
       "      <th>WardCode</th>\n",
       "      <th>Arts &amp; Entertainment</th>\n",
       "      <th>College &amp; University</th>\n",
       "      <th>Food</th>\n",
       "      <th>Nightlife Spot</th>\n",
       "      <th>Outdoors &amp; Recreation</th>\n",
       "      <th>Professional &amp; Other Places</th>\n",
       "      <th>Residence</th>\n",
       "      <th>Shop &amp; Service</th>\n",
       "      <th>Travel &amp; Transport</th>\n",
       "    </tr>\n",
       "  </thead>\n",
       "  <tbody>\n",
       "    <tr>\n",
       "      <th>0</th>\n",
       "      <td>1</td>\n",
       "      <td>E05000026</td>\n",
       "      <td>0.055556</td>\n",
       "      <td>0.0</td>\n",
       "      <td>0.250000</td>\n",
       "      <td>0.027778</td>\n",
       "      <td>0.138889</td>\n",
       "      <td>0.000000</td>\n",
       "      <td>0.0</td>\n",
       "      <td>0.361111</td>\n",
       "      <td>0.166667</td>\n",
       "    </tr>\n",
       "    <tr>\n",
       "      <th>1</th>\n",
       "      <td>2</td>\n",
       "      <td>E05000027</td>\n",
       "      <td>0.068182</td>\n",
       "      <td>0.0</td>\n",
       "      <td>0.181818</td>\n",
       "      <td>0.068182</td>\n",
       "      <td>0.250000</td>\n",
       "      <td>0.000000</td>\n",
       "      <td>0.0</td>\n",
       "      <td>0.363636</td>\n",
       "      <td>0.068182</td>\n",
       "    </tr>\n",
       "    <tr>\n",
       "      <th>2</th>\n",
       "      <td>2</td>\n",
       "      <td>E05000028</td>\n",
       "      <td>0.043478</td>\n",
       "      <td>0.0</td>\n",
       "      <td>0.217391</td>\n",
       "      <td>0.043478</td>\n",
       "      <td>0.304348</td>\n",
       "      <td>0.000000</td>\n",
       "      <td>0.0</td>\n",
       "      <td>0.304348</td>\n",
       "      <td>0.086957</td>\n",
       "    </tr>\n",
       "    <tr>\n",
       "      <th>3</th>\n",
       "      <td>1</td>\n",
       "      <td>E05000029</td>\n",
       "      <td>0.057143</td>\n",
       "      <td>0.0</td>\n",
       "      <td>0.285714</td>\n",
       "      <td>0.085714</td>\n",
       "      <td>0.142857</td>\n",
       "      <td>0.028571</td>\n",
       "      <td>0.0</td>\n",
       "      <td>0.314286</td>\n",
       "      <td>0.085714</td>\n",
       "    </tr>\n",
       "    <tr>\n",
       "      <th>4</th>\n",
       "      <td>2</td>\n",
       "      <td>E05000030</td>\n",
       "      <td>0.000000</td>\n",
       "      <td>0.0</td>\n",
       "      <td>0.236842</td>\n",
       "      <td>0.052632</td>\n",
       "      <td>0.315789</td>\n",
       "      <td>0.000000</td>\n",
       "      <td>0.0</td>\n",
       "      <td>0.368421</td>\n",
       "      <td>0.026316</td>\n",
       "    </tr>\n",
       "  </tbody>\n",
       "</table>\n",
       "</div>"
      ],
      "text/plain": [
       "   Cluster Labels   WardCode  Arts & Entertainment  College & University  \\\n",
       "0               1  E05000026              0.055556                   0.0   \n",
       "1               2  E05000027              0.068182                   0.0   \n",
       "2               2  E05000028              0.043478                   0.0   \n",
       "3               1  E05000029              0.057143                   0.0   \n",
       "4               2  E05000030              0.000000                   0.0   \n",
       "\n",
       "       Food  Nightlife Spot  Outdoors & Recreation  \\\n",
       "0  0.250000        0.027778               0.138889   \n",
       "1  0.181818        0.068182               0.250000   \n",
       "2  0.217391        0.043478               0.304348   \n",
       "3  0.285714        0.085714               0.142857   \n",
       "4  0.236842        0.052632               0.315789   \n",
       "\n",
       "   Professional & Other Places  Residence  Shop & Service  Travel & Transport  \n",
       "0                     0.000000        0.0        0.361111            0.166667  \n",
       "1                     0.000000        0.0        0.363636            0.068182  \n",
       "2                     0.000000        0.0        0.304348            0.086957  \n",
       "3                     0.028571        0.0        0.314286            0.085714  \n",
       "4                     0.000000        0.0        0.368421            0.026316  "
      ]
     },
     "execution_count": 20,
     "metadata": {},
     "output_type": "execute_result"
    }
   ],
   "source": [
    "#london_ward_grouped.drop(axis=1,columns=[\"Cluster Labels\"],inplace=True)\n",
    "from sklearn.cluster import KMeans\n",
    "\n",
    "kclusters = 10\n",
    "\n",
    "london_ward__grouped_clustering = london_ward_grouped.drop('WardCode', 1)\n",
    "\n",
    "# run k-means clustering\n",
    "kmeans = KMeans(n_clusters=kclusters, random_state=0).fit(london_ward__grouped_clustering)\n",
    "\n",
    "# check cluster labels generated for each row in the dataframe\n",
    "kmeans.labels_[0:10] \n",
    "\n",
    "# add clustering labels\n",
    "#london_ward_grouped.drop(columns=['Cluster Labels'],axis=1,inplace=True)\n",
    "london_ward_grouped.insert(0, 'Cluster Labels', kmeans.labels_)\n",
    "\n",
    "london_ward_grouped.head()\n",
    "\n",
    "\n"
   ]
  },
  {
   "cell_type": "markdown",
   "metadata": {},
   "source": [
    "Join it to the crime rate data set"
   ]
  },
  {
   "cell_type": "code",
   "execution_count": 21,
   "metadata": {},
   "outputs": [
    {
     "data": {
      "text/html": [
       "<div>\n",
       "<style scoped>\n",
       "    .dataframe tbody tr th:only-of-type {\n",
       "        vertical-align: middle;\n",
       "    }\n",
       "\n",
       "    .dataframe tbody tr th {\n",
       "        vertical-align: top;\n",
       "    }\n",
       "\n",
       "    .dataframe thead th {\n",
       "        text-align: right;\n",
       "    }\n",
       "</style>\n",
       "<table border=\"1\" class=\"dataframe\">\n",
       "  <thead>\n",
       "    <tr style=\"text-align: right;\">\n",
       "      <th></th>\n",
       "      <th>LookUp_BoroughName</th>\n",
       "      <th>WardName</th>\n",
       "      <th>WardCode</th>\n",
       "      <th>crime_rate</th>\n",
       "      <th>crime_rate_category</th>\n",
       "      <th>Cluster Labels</th>\n",
       "      <th>Arts and Entertainment</th>\n",
       "      <th>College and University</th>\n",
       "      <th>Food</th>\n",
       "      <th>Nightlife Spot</th>\n",
       "      <th>Outdoors and Recreation</th>\n",
       "      <th>Professional and Other Places</th>\n",
       "      <th>Residence</th>\n",
       "      <th>Shop and Service</th>\n",
       "      <th>Travel and Transport</th>\n",
       "    </tr>\n",
       "  </thead>\n",
       "  <tbody>\n",
       "    <tr>\n",
       "      <th>493</th>\n",
       "      <td>Tower Hamlets</td>\n",
       "      <td>Limehouse</td>\n",
       "      <td>E05009326</td>\n",
       "      <td>5.616272</td>\n",
       "      <td>Low</td>\n",
       "      <td>9</td>\n",
       "      <td>0.043478</td>\n",
       "      <td>0.0</td>\n",
       "      <td>0.478261</td>\n",
       "      <td>0.086957</td>\n",
       "      <td>0.260870</td>\n",
       "      <td>0.000000</td>\n",
       "      <td>0.0</td>\n",
       "      <td>0.043478</td>\n",
       "      <td>0.086957</td>\n",
       "    </tr>\n",
       "    <tr>\n",
       "      <th>449</th>\n",
       "      <td>Richmond upon Thames</td>\n",
       "      <td>East Sheen</td>\n",
       "      <td>E05000517</td>\n",
       "      <td>6.085011</td>\n",
       "      <td>Low</td>\n",
       "      <td>9</td>\n",
       "      <td>0.000000</td>\n",
       "      <td>0.0</td>\n",
       "      <td>0.300000</td>\n",
       "      <td>0.150000</td>\n",
       "      <td>0.500000</td>\n",
       "      <td>0.000000</td>\n",
       "      <td>0.0</td>\n",
       "      <td>0.050000</td>\n",
       "      <td>0.000000</td>\n",
       "    </tr>\n",
       "    <tr>\n",
       "      <th>95</th>\n",
       "      <td>Camden</td>\n",
       "      <td>Frognal and Fitzjohns</td>\n",
       "      <td>E05000133</td>\n",
       "      <td>7.856988</td>\n",
       "      <td>Low</td>\n",
       "      <td>5</td>\n",
       "      <td>0.060606</td>\n",
       "      <td>0.0</td>\n",
       "      <td>0.636364</td>\n",
       "      <td>0.090909</td>\n",
       "      <td>0.060606</td>\n",
       "      <td>0.030303</td>\n",
       "      <td>0.0</td>\n",
       "      <td>0.121212</td>\n",
       "      <td>0.000000</td>\n",
       "    </tr>\n",
       "    <tr>\n",
       "      <th>239</th>\n",
       "      <td>Harrow</td>\n",
       "      <td>Pinner South</td>\n",
       "      <td>E05000298</td>\n",
       "      <td>7.918240</td>\n",
       "      <td>Low</td>\n",
       "      <td>0</td>\n",
       "      <td>0.000000</td>\n",
       "      <td>0.0</td>\n",
       "      <td>0.446809</td>\n",
       "      <td>0.148936</td>\n",
       "      <td>0.127660</td>\n",
       "      <td>0.000000</td>\n",
       "      <td>0.0</td>\n",
       "      <td>0.234043</td>\n",
       "      <td>0.042553</td>\n",
       "    </tr>\n",
       "    <tr>\n",
       "      <th>89</th>\n",
       "      <td>Bromley</td>\n",
       "      <td>West Wickham</td>\n",
       "      <td>E05000127</td>\n",
       "      <td>8.392342</td>\n",
       "      <td>Low</td>\n",
       "      <td>1</td>\n",
       "      <td>0.000000</td>\n",
       "      <td>0.0</td>\n",
       "      <td>0.363636</td>\n",
       "      <td>0.090909</td>\n",
       "      <td>0.136364</td>\n",
       "      <td>0.000000</td>\n",
       "      <td>0.0</td>\n",
       "      <td>0.363636</td>\n",
       "      <td>0.045455</td>\n",
       "    </tr>\n",
       "  </tbody>\n",
       "</table>\n",
       "</div>"
      ],
      "text/plain": [
       "       LookUp_BoroughName               WardName   WardCode  crime_rate  \\\n",
       "493         Tower Hamlets              Limehouse  E05009326    5.616272   \n",
       "449  Richmond upon Thames             East Sheen  E05000517    6.085011   \n",
       "95                 Camden  Frognal and Fitzjohns  E05000133    7.856988   \n",
       "239                Harrow           Pinner South  E05000298    7.918240   \n",
       "89                Bromley           West Wickham  E05000127    8.392342   \n",
       "\n",
       "    crime_rate_category  Cluster Labels  Arts and Entertainment  \\\n",
       "493                 Low               9                0.043478   \n",
       "449                 Low               9                0.000000   \n",
       "95                  Low               5                0.060606   \n",
       "239                 Low               0                0.000000   \n",
       "89                  Low               1                0.000000   \n",
       "\n",
       "     College and University      Food  Nightlife Spot  \\\n",
       "493                     0.0  0.478261        0.086957   \n",
       "449                     0.0  0.300000        0.150000   \n",
       "95                      0.0  0.636364        0.090909   \n",
       "239                     0.0  0.446809        0.148936   \n",
       "89                      0.0  0.363636        0.090909   \n",
       "\n",
       "     Outdoors and Recreation  Professional and Other Places  Residence  \\\n",
       "493                 0.260870                       0.000000        0.0   \n",
       "449                 0.500000                       0.000000        0.0   \n",
       "95                  0.060606                       0.030303        0.0   \n",
       "239                 0.127660                       0.000000        0.0   \n",
       "89                  0.136364                       0.000000        0.0   \n",
       "\n",
       "     Shop and Service  Travel and Transport  \n",
       "493          0.043478              0.086957  \n",
       "449          0.050000              0.000000  \n",
       "95           0.121212              0.000000  \n",
       "239          0.234043              0.042553  \n",
       "89           0.363636              0.045455  "
      ]
     },
     "execution_count": 21,
     "metadata": {},
     "output_type": "execute_result"
    }
   ],
   "source": [
    "final_df = crime_rate_df.merge(right=london_ward_grouped,how='left',)\n",
    "final_df = final_df[final_df['Food'].notnull()]\n",
    "final_df.sort_values(by=['crime_rate'],inplace=True)\n",
    "for col in final_df.columns:   \n",
    "    if \"&\" in col:        \n",
    "        final_df.rename(columns={col:col.replace(\"&\",\"and\")},inplace=True)\n",
    "final_df.head()"
   ]
  },
  {
   "cell_type": "code",
   "execution_count": 22,
   "metadata": {},
   "outputs": [
    {
     "data": {
      "text/html": [
       "<div>\n",
       "<style scoped>\n",
       "    .dataframe tbody tr th:only-of-type {\n",
       "        vertical-align: middle;\n",
       "    }\n",
       "\n",
       "    .dataframe tbody tr th {\n",
       "        vertical-align: top;\n",
       "    }\n",
       "\n",
       "    .dataframe thead th {\n",
       "        text-align: right;\n",
       "    }\n",
       "</style>\n",
       "<table border=\"1\" class=\"dataframe\">\n",
       "  <thead>\n",
       "    <tr style=\"text-align: right;\">\n",
       "      <th></th>\n",
       "      <th>0</th>\n",
       "      <th>1</th>\n",
       "      <th>2</th>\n",
       "      <th>3</th>\n",
       "      <th>4</th>\n",
       "      <th>5</th>\n",
       "      <th>6</th>\n",
       "      <th>7</th>\n",
       "      <th>8</th>\n",
       "      <th>9</th>\n",
       "    </tr>\n",
       "  </thead>\n",
       "  <tbody>\n",
       "    <tr>\n",
       "      <th>0</th>\n",
       "      <td>7.918240</td>\n",
       "      <td>NaN</td>\n",
       "      <td>NaN</td>\n",
       "      <td>NaN</td>\n",
       "      <td>NaN</td>\n",
       "      <td>NaN</td>\n",
       "      <td>NaN</td>\n",
       "      <td>NaN</td>\n",
       "      <td>NaN</td>\n",
       "      <td>NaN</td>\n",
       "    </tr>\n",
       "    <tr>\n",
       "      <th>1</th>\n",
       "      <td>9.300477</td>\n",
       "      <td>NaN</td>\n",
       "      <td>NaN</td>\n",
       "      <td>NaN</td>\n",
       "      <td>NaN</td>\n",
       "      <td>NaN</td>\n",
       "      <td>NaN</td>\n",
       "      <td>NaN</td>\n",
       "      <td>NaN</td>\n",
       "      <td>NaN</td>\n",
       "    </tr>\n",
       "    <tr>\n",
       "      <th>2</th>\n",
       "      <td>10.005053</td>\n",
       "      <td>NaN</td>\n",
       "      <td>NaN</td>\n",
       "      <td>NaN</td>\n",
       "      <td>NaN</td>\n",
       "      <td>NaN</td>\n",
       "      <td>NaN</td>\n",
       "      <td>NaN</td>\n",
       "      <td>NaN</td>\n",
       "      <td>NaN</td>\n",
       "    </tr>\n",
       "    <tr>\n",
       "      <th>3</th>\n",
       "      <td>10.587020</td>\n",
       "      <td>NaN</td>\n",
       "      <td>NaN</td>\n",
       "      <td>NaN</td>\n",
       "      <td>NaN</td>\n",
       "      <td>NaN</td>\n",
       "      <td>NaN</td>\n",
       "      <td>NaN</td>\n",
       "      <td>NaN</td>\n",
       "      <td>NaN</td>\n",
       "    </tr>\n",
       "    <tr>\n",
       "      <th>4</th>\n",
       "      <td>10.806051</td>\n",
       "      <td>NaN</td>\n",
       "      <td>NaN</td>\n",
       "      <td>NaN</td>\n",
       "      <td>NaN</td>\n",
       "      <td>NaN</td>\n",
       "      <td>NaN</td>\n",
       "      <td>NaN</td>\n",
       "      <td>NaN</td>\n",
       "      <td>NaN</td>\n",
       "    </tr>\n",
       "  </tbody>\n",
       "</table>\n",
       "</div>"
      ],
      "text/plain": [
       "           0   1   2   3   4   5   6   7   8   9\n",
       "0   7.918240 NaN NaN NaN NaN NaN NaN NaN NaN NaN\n",
       "1   9.300477 NaN NaN NaN NaN NaN NaN NaN NaN NaN\n",
       "2  10.005053 NaN NaN NaN NaN NaN NaN NaN NaN NaN\n",
       "3  10.587020 NaN NaN NaN NaN NaN NaN NaN NaN NaN\n",
       "4  10.806051 NaN NaN NaN NaN NaN NaN NaN NaN NaN"
      ]
     },
     "execution_count": 22,
     "metadata": {},
     "output_type": "execute_result"
    }
   ],
   "source": [
    "import numpy as np\n",
    "df_for_plot = pd.DataFrame(columns=range(0,kclusters))\n",
    "\n",
    "for cl in range(0,kclusters):  \n",
    "    selected_for_cluster = final_df[final_df['Cluster Labels']==cl]['crime_rate']    \n",
    "    a = np.empty(shape=(len(selected_for_cluster),kclusters))\n",
    "    a[:] = np.nan\n",
    "    new_df = pd.DataFrame(a, columns=range(0,kclusters))\n",
    "    new_df[cl]  = list(selected_for_cluster)   \n",
    "    df_for_plot = df_for_plot.append(new_df)\n",
    "df_for_plot.head()"
   ]
  },
  {
   "cell_type": "code",
   "execution_count": 23,
   "metadata": {},
   "outputs": [
    {
     "name": "stdout",
     "output_type": "stream",
     "text": [
      "Matplotlib version:  3.1.1\n"
     ]
    }
   ],
   "source": [
    "%matplotlib inline\n",
    "\n",
    "import matplotlib as mpl\n",
    "import matplotlib.pyplot as plt\n",
    "\n",
    "mpl.style.use('ggplot') # optional: for ggplot-like style\n",
    "\n",
    "# check for latest version of Matplotlib\n",
    "print('Matplotlib version: ', mpl.__version__) # >= 2.0.0"
   ]
  },
  {
   "cell_type": "code",
   "execution_count": 24,
   "metadata": {},
   "outputs": [
    {
     "data": {
      "image/png": "[encoded data removed]",
      "text/plain": [
       "<Figure size 576x432 with 1 Axes>"
      ]
     },
     "metadata": {},
     "output_type": "display_data"
    }
   ],
   "source": [
    "\n",
    "df_for_plot.plot(kind='box', figsize=(8, 6))\n",
    "plt.show()\n"
   ]
  },
  {
   "cell_type": "code",
   "execution_count": 25,
   "metadata": {},
   "outputs": [
    {
     "data": {
      "text/plain": [
       "Cluster Labels                         351\n",
       "Food                               14.7979\n",
       "Outdoors and Recreation            11.0831\n",
       "Shop and Service                   5.08938\n",
       "Nightlife Spot                     4.01753\n",
       "Travel and Transport               2.77058\n",
       "Arts and Entertainment              1.1301\n",
       "Professional and Other Places    0.0757206\n",
       "College and University           0.0357143\n",
       "Residence                                0\n",
       "dtype: object"
      ]
     },
     "execution_count": 25,
     "metadata": {},
     "output_type": "execute_result"
    }
   ],
   "source": [
    "cluster_9 = final_df[final_df['Cluster Labels']==9]\n",
    "cluster_9.sum()[5:].sort_values(ascending=False)[0:20]"
   ]
  },
  {
   "cell_type": "code",
   "execution_count": 26,
   "metadata": {},
   "outputs": [
    {
     "data": {
      "text/plain": [
       "Cluster Labels                        306\n",
       "Shop and Service                  23.4995\n",
       "Food                              15.8914\n",
       "Outdoors and Recreation           4.30449\n",
       "Travel and Transport              3.85735\n",
       "Nightlife Spot                    2.20205\n",
       "Arts and Entertainment            1.00987\n",
       "Professional and Other Places    0.150621\n",
       "Residence                        0.047619\n",
       "College and University           0.037037\n",
       "dtype: object"
      ]
     },
     "execution_count": 26,
     "metadata": {},
     "output_type": "execute_result"
    }
   ],
   "source": [
    "cluster_6 = final_df[final_df['Cluster Labels']==6]\n",
    "cluster_6.sum()[5:].sort_values(ascending=False)[0:20]"
   ]
  },
  {
   "cell_type": "code",
   "execution_count": 27,
   "metadata": {},
   "outputs": [
    {
     "data": {
      "text/html": [
       "<div>\n",
       "<style scoped>\n",
       "    .dataframe tbody tr th:only-of-type {\n",
       "        vertical-align: middle;\n",
       "    }\n",
       "\n",
       "    .dataframe tbody tr th {\n",
       "        vertical-align: top;\n",
       "    }\n",
       "\n",
       "    .dataframe thead th {\n",
       "        text-align: right;\n",
       "    }\n",
       "</style>\n",
       "<table border=\"1\" class=\"dataframe\">\n",
       "  <thead>\n",
       "    <tr style=\"text-align: right;\">\n",
       "      <th></th>\n",
       "      <th>LookUp_BoroughName</th>\n",
       "      <th>WardName</th>\n",
       "      <th>WardCode</th>\n",
       "      <th>crime_rate</th>\n",
       "      <th>crime_rate_category</th>\n",
       "      <th>Cluster Labels</th>\n",
       "      <th>Arts and Entertainment</th>\n",
       "      <th>College and University</th>\n",
       "      <th>Food</th>\n",
       "      <th>Nightlife Spot</th>\n",
       "      <th>Outdoors and Recreation</th>\n",
       "      <th>Professional and Other Places</th>\n",
       "      <th>Residence</th>\n",
       "      <th>Shop and Service</th>\n",
       "      <th>Travel and Transport</th>\n",
       "    </tr>\n",
       "  </thead>\n",
       "  <tbody>\n",
       "    <tr>\n",
       "      <th>341</th>\n",
       "      <td>Kingston upon Thames</td>\n",
       "      <td>Chessington South</td>\n",
       "      <td>E05000405</td>\n",
       "      <td>18.152408</td>\n",
       "      <td>Low</td>\n",
       "      <td>7</td>\n",
       "      <td>0.782609</td>\n",
       "      <td>0.0</td>\n",
       "      <td>0.086957</td>\n",
       "      <td>0.043478</td>\n",
       "      <td>0.0</td>\n",
       "      <td>0.0</td>\n",
       "      <td>0.0</td>\n",
       "      <td>0.0</td>\n",
       "      <td>0.086957</td>\n",
       "    </tr>\n",
       "  </tbody>\n",
       "</table>\n",
       "</div>"
      ],
      "text/plain": [
       "       LookUp_BoroughName           WardName   WardCode  crime_rate  \\\n",
       "341  Kingston upon Thames  Chessington South  E05000405   18.152408   \n",
       "\n",
       "    crime_rate_category  Cluster Labels  Arts and Entertainment  \\\n",
       "341                 Low               7                0.782609   \n",
       "\n",
       "     College and University      Food  Nightlife Spot  \\\n",
       "341                     0.0  0.086957        0.043478   \n",
       "\n",
       "     Outdoors and Recreation  Professional and Other Places  Residence  \\\n",
       "341                      0.0                            0.0        0.0   \n",
       "\n",
       "     Shop and Service  Travel and Transport  \n",
       "341               0.0              0.086957  "
      ]
     },
     "execution_count": 27,
     "metadata": {},
     "output_type": "execute_result"
    }
   ],
   "source": [
    "final_df[final_df['Cluster Labels']==7]\n"
   ]
  },
  {
   "cell_type": "markdown",
   "metadata": {},
   "source": [
    "Excluding E05000405 also"
   ]
  },
  {
   "cell_type": "code",
   "execution_count": 28,
   "metadata": {},
   "outputs": [],
   "source": [
    "final_df = final_df[final_df['WardCode']!='E05000405']"
   ]
  },
  {
   "cell_type": "code",
   "execution_count": 29,
   "metadata": {},
   "outputs": [
    {
     "data": {
      "image/png": "[encoded data removed]",
      "text/plain": [
       "<Figure size 432x288 with 1 Axes>"
      ]
     },
     "metadata": {},
     "output_type": "display_data"
    },
    {
     "data": {
      "image/png": "[encoded data removed]",
      "text/plain": [
       "<Figure size 432x288 with 1 Axes>"
      ]
     },
     "metadata": {},
     "output_type": "display_data"
    },
    {
     "data": {
      "image/png": "[encoded data removed]",
      "text/plain": [
       "<Figure size 432x288 with 1 Axes>"
      ]
     },
     "metadata": {},
     "output_type": "display_data"
    },
    {
     "data": {
      "image/png": "[encoded data removed]",
      "text/plain": [
       "<Figure size 432x288 with 1 Axes>"
      ]
     },
     "metadata": {},
     "output_type": "display_data"
    },
    {
     "data": {
      "image/png": "[encoded data removed]",
      "text/plain": [
       "<Figure size 432x288 with 1 Axes>"
      ]
     },
     "metadata": {},
     "output_type": "display_data"
    },
    {
     "data": {
      "image/png": "[encoded data removed]",
      "text/plain": [
       "<Figure size 432x288 with 1 Axes>"
      ]
     },
     "metadata": {},
     "output_type": "display_data"
    },
    {
     "data": {
      "image/png": "[encoded data removed]",
      "text/plain": [
       "<Figure size 432x288 with 1 Axes>"
      ]
     },
     "metadata": {},
     "output_type": "display_data"
    },
    {
     "data": {
      "image/png": "[encoded data removed]",
      "text/plain": [
       "<Figure size 432x288 with 1 Axes>"
      ]
     },
     "metadata": {},
     "output_type": "display_data"
    },
    {
     "data": {
      "image/png": "[encoded data removed]",
      "text/plain": [
       "<Figure size 432x288 with 1 Axes>"
      ]
     },
     "metadata": {},
     "output_type": "display_data"
    },
    {
     "data": {
      "image/png": "[encoded data removed]",
      "text/plain": [
       "<Figure size 432x288 with 1 Axes>"
      ]
     },
     "metadata": {},
     "output_type": "display_data"
    }
   ],
   "source": [
    "for col in final_df.columns[5:]:\n",
    "    final_df[final_df[col]>0].plot.scatter(x='crime_rate',y=col,c='DarkBlue')\n"
   ]
  },
  {
   "cell_type": "markdown",
   "metadata": {},
   "source": [
    "### Building Decision Tree Model"
   ]
  },
  {
   "cell_type": "code",
   "execution_count": 74,
   "metadata": {},
   "outputs": [
    {
     "name": "stdout",
     "output_type": "stream",
     "text": [
      "DecisionTrees's Accuracy:  0.49101796407185627\n"
     ]
    }
   ],
   "source": [
    "from sklearn.model_selection import train_test_split\n",
    "from sklearn.tree import DecisionTreeClassifier\n",
    "\n",
    "y = final_df['crime_rate_category']\n",
    "selected_columns=final_df.columns[5:-1]\n",
    "X = final_df[selected_columns]\n",
    "\n",
    "X_trainset, X_testset, y_trainset, y_testset = train_test_split(X, y, test_size=0.3, random_state=3)\n",
    "\n",
    "crimeRateTree = DecisionTreeClassifier(criterion=\"entropy\", max_depth =4 )\n",
    "\n",
    "crimeRateTree.fit(X_trainset,y_trainset)\n",
    "\n",
    "predCrimeRate = crimeRateTree.predict(X_testset)\n",
    "\n",
    "from sklearn import metrics\n",
    "import matplotlib.pyplot as plt\n",
    "print(\"DecisionTrees's Accuracy: \", metrics.accuracy_score(y_testset, predCrimeRate))\n",
    "\n"
   ]
  },
  {
   "cell_type": "markdown",
   "metadata": {},
   "source": [
    "### Visualisation"
   ]
  },
  {
   "cell_type": "code",
   "execution_count": 231,
   "metadata": {},
   "outputs": [],
   "source": [
    "# Notice: You might need to uncomment and install the pydotplus and graphviz libraries if you have not installed these before\n",
    "#!conda install -c conda-forge pydotplus -y\n",
    "#!conda install -c conda-forge python-graphviz -y"
   ]
  },
  {
   "cell_type": "code",
   "execution_count": 332,
   "metadata": {},
   "outputs": [],
   "source": [
    "from sklearn.externals.six import StringIO\n",
    "import pydotplus\n",
    "import matplotlib.image as mpimg\n",
    "from sklearn import tree\n",
    "%matplotlib inline "
   ]
  },
  {
   "cell_type": "code",
   "execution_count": 330,
   "metadata": {},
   "outputs": [
    {
     "data": {
      "text/plain": [
       "True"
      ]
     },
     "execution_count": 330,
     "metadata": {},
     "output_type": "execute_result"
    }
   ],
   "source": [
    "dot_data = StringIO()\n",
    "filename = \"crimeRateTree.png\"\n",
    "featureNames = selected_columns\n",
    "targetNames = y.unique().tolist()\n",
    "out=tree.export_graphviz(crimeRateTree,feature_names=featureNames, out_file=dot_data, class_names= np.unique(y_trainset), filled=True,  special_characters=True,rotate=False)  \n",
    "graph = pydotplus.graph_from_dot_data(dot_data.getvalue())  \n",
    "graph.write_png(filename)\n",
    "#img = mpimg.imread(filename)\n",
    "#plt.figure(figsize=(100, 200))\n",
    "#plt.imshow(img,interpolation='nearest')\n"
   ]
  },
  {
   "cell_type": "markdown",
   "metadata": {},
   "source": [
    "## Support Vector Machines"
   ]
  },
  {
   "cell_type": "code",
   "execution_count": 37,
   "metadata": {},
   "outputs": [
    {
     "name": "stderr",
     "output_type": "stream",
     "text": [
      "/home/jupyterlab/conda/envs/python/lib/python3.6/site-packages/sklearn/svm/base.py:196: FutureWarning: The default value of gamma will change from 'auto' to 'scale' in version 0.22 to account better for unscaled features. Set gamma explicitly to 'auto' or 'scale' to avoid this warning.\n",
      "  \"avoid this warning.\", FutureWarning)\n"
     ]
    },
    {
     "data": {
      "text/plain": [
       "0.4431137724550898"
      ]
     },
     "execution_count": 37,
     "metadata": {},
     "output_type": "execute_result"
    }
   ],
   "source": [
    "\n",
    "y = final_df['crime_rate_category']\n",
    "selected_columns=final_df.columns[5:-1]\n",
    "X = final_df[selected_columns]\n",
    "\n",
    "X_trainset, X_testset, y_trainset, y_testset = train_test_split(X, y, test_size=0.3, random_state=3)\n",
    "\n",
    "from sklearn import svm\n",
    "crRateSVM = svm.SVC(kernel='rbf')\n",
    "crRateSVM.fit(X_trainset, y_trainset) \n",
    "yhat = crRateSVM.predict(X_testset)\n",
    "\n",
    "from sklearn.metrics import jaccard_similarity_score\n",
    "jaccard_similarity_score(y_testset, yhat)"
   ]
  },
  {
   "cell_type": "code",
   "execution_count": 33,
   "metadata": {},
   "outputs": [
    {
     "name": "stderr",
     "output_type": "stream",
     "text": [
      "/home/jupyterlab/conda/envs/python/lib/python3.6/site-packages/sklearn/metrics/classification.py:1143: UndefinedMetricWarning: F-score is ill-defined and being set to 0.0 in labels with no predicted samples.\n",
      "  'precision', 'predicted', average, warn_for)\n"
     ]
    },
    {
     "data": {
      "text/plain": [
       "0.4211793803696954"
      ]
     },
     "execution_count": 33,
     "metadata": {},
     "output_type": "execute_result"
    }
   ],
   "source": [
    "from sklearn.metrics import f1_score\n",
    "f1_score(y_testset, yhat, average='weighted') "
   ]
  },
  {
   "cell_type": "code",
   "execution_count": 38,
   "metadata": {},
   "outputs": [],
   "source": [
    "def plot_confusion_matrix(cm, classes,\n",
    "                          normalize=False,\n",
    "                          title='Confusion matrix',\n",
    "                          cmap=plt.cm.Blues):\n",
    "    \"\"\"\n",
    "    This function prints and plots the confusion matrix.\n",
    "    Normalization can be applied by setting `normalize=True`.\n",
    "    \"\"\"\n",
    "    if normalize:\n",
    "        cm = cm.astype('float') / cm.sum(axis=1)[:, np.newaxis]\n",
    "        print(\"Normalized confusion matrix\")\n",
    "    else:\n",
    "        print('Confusion matrix, without normalization')\n",
    "\n",
    "    print(cm)\n",
    "\n",
    "    plt.imshow(cm, interpolation='nearest', cmap=cmap)\n",
    "    plt.title(title)\n",
    "    plt.colorbar()\n",
    "    tick_marks = np.arange(len(classes))\n",
    "    plt.xticks(tick_marks, classes, rotation=45)\n",
    "    plt.yticks(tick_marks, classes)\n",
    "\n",
    "    fmt = '.2f' if normalize else 'd'\n",
    "    thresh = cm.max() / 2.\n",
    "    for i, j in itertools.product(range(cm.shape[0]), range(cm.shape[1])):\n",
    "        plt.text(j, i, format(cm[i, j], fmt),\n",
    "                 horizontalalignment=\"center\",\n",
    "                 color=\"white\" if cm[i, j] > thresh else \"black\")\n",
    "\n",
    "    plt.tight_layout()\n",
    "    plt.ylabel('True label')\n",
    "    plt.xlabel('Predicted label')"
   ]
  },
  {
   "cell_type": "code",
   "execution_count": 41,
   "metadata": {},
   "outputs": [
    {
     "name": "stdout",
     "output_type": "stream",
     "text": [
      "              precision    recall  f1-score   support\n",
      "\n",
      "        High       0.00      0.00      0.00        12\n",
      "         Low       0.46      0.58      0.51        81\n",
      "      Medium       0.42      0.36      0.39        74\n",
      "\n",
      "   micro avg       0.44      0.44      0.44       167\n",
      "   macro avg       0.29      0.32      0.30       167\n",
      "weighted avg       0.41      0.44      0.42       167\n",
      "\n",
      "Confusion matrix, without normalization\n",
      "[[47 34  0]\n",
      " [47 27  0]\n",
      " [ 9  3  0]]\n"
     ]
    },
    {
     "data": {
      "image/png": "[encoded data removed]",
      "text/plain": [
       "<Figure size 432x288 with 2 Axes>"
      ]
     },
     "metadata": {},
     "output_type": "display_data"
    }
   ],
   "source": [
    "import itertools\n",
    "from sklearn.metrics import classification_report, confusion_matrix\n",
    "# Compute confusion matrix\n",
    "cnf_matrix = confusion_matrix(y_testset, yhat, labels=['Low','Medium','High'])\n",
    "np.set_printoptions(precision=2)\n",
    "\n",
    "print (classification_report(y_testset, yhat))\n",
    "\n",
    "# Plot non-normalized confusion matrix\n",
    "plt.figure()\n",
    "plot_confusion_matrix(cnf_matrix, classes=['Low','Medium','High'],normalize= False,  title='Confusion matrix')"
   ]
  },
  {
   "cell_type": "code",
   "execution_count": null,
   "metadata": {},
   "outputs": [],
   "source": []
  }
 ],
 "metadata": {
  "kernelspec": {
   "display_name": "Python",
   "language": "python",
   "name": "conda-env-python-py"
  },
  "language_info": {
   "codemirror_mode": {
    "name": "ipython",
    "version": 3
   },
   "file_extension": ".py",
   "mimetype": "text/x-python",
   "name": "python",
   "nbconvert_exporter": "python",
   "pygments_lexer": "ipython3",
   "version": "3.6.10"
  }
 },
 "nbformat": 4,
 "nbformat_minor": 4
}
